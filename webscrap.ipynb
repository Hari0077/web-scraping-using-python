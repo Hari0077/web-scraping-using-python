{
 "cells": [
  {
   "cell_type": "code",
   "execution_count": 3,
   "id": "global-southwest",
   "metadata": {},
   "outputs": [
    {
     "name": "stdout",
     "output_type": "stream",
     "text": [
      "Requirement already satisfied: beautifulsoup4 in /srv/conda/envs/notebook/lib/python3.6/site-packages (4.9.3)\r\n",
      "Requirement already satisfied: soupsieve>1.2 in /srv/conda/envs/notebook/lib/python3.6/site-packages (from beautifulsoup4) (2.2.1)\r\n"
     ]
    }
   ],
   "source": [
    "!pip install beautifulsoup4"
   ]
  },
  {
   "cell_type": "code",
   "execution_count": 4,
   "id": "loose-belarus",
   "metadata": {},
   "outputs": [
    {
     "name": "stdout",
     "output_type": "stream",
     "text": [
      "Requirement already satisfied: requests in /srv/conda/envs/notebook/lib/python3.6/site-packages (2.25.1)\r\n",
      "Requirement already satisfied: idna<3,>=2.5 in /srv/conda/envs/notebook/lib/python3.6/site-packages (from requests) (2.10)\r\n",
      "Requirement already satisfied: urllib3<1.27,>=1.21.1 in /srv/conda/envs/notebook/lib/python3.6/site-packages (from requests) (1.26.3)\r\n",
      "Requirement already satisfied: certifi>=2017.4.17 in /srv/conda/envs/notebook/lib/python3.6/site-packages (from requests) (2020.12.5)\r\n",
      "Requirement already satisfied: chardet<5,>=3.0.2 in /srv/conda/envs/notebook/lib/python3.6/site-packages (from requests) (4.0.0)\r\n"
     ]
    }
   ],
   "source": [
    "!pip install requests"
   ]
  },
  {
   "cell_type": "code",
   "execution_count": 8,
   "id": "beginning-record",
   "metadata": {},
   "outputs": [],
   "source": [
    "import sys\n",
    "import time\n",
    "from bs4 import BeautifulSoup\n",
    "import requests"
   ]
  },
  {
   "cell_type": "code",
   "execution_count": 16,
   "id": "native-frequency",
   "metadata": {},
   "outputs": [],
   "source": [
    "try:     \n",
    "    page=requests.get('https://hari0077.github.io')                            \n",
    "    \n",
    "except Exception as e:                                   \n",
    "    error_type, error_obj, error_info = sys.exc_info()      \n",
    "    print ('ERROR FOR LINK:',url)                          \n",
    "    print (error_type, 'Line:', error_info.tb_lineno)     \n",
    "                                                 \n",
    "time.sleep(2)   \n",
    "soup=BeautifulSoup(page.text,'html.parser')\n",
    "links=soup.find_all('p')"
   ]
  },
  {
   "cell_type": "code",
   "execution_count": 12,
   "id": "dramatic-albany",
   "metadata": {},
   "outputs": [
    {
     "data": {
      "text/plain": [
       "<!DOCTYPE html>\n",
       "\n",
       "<html>\n",
       "<head>\n",
       "<meta charset=\"utf-8\"/>\n",
       "<meta content=\"IE=edge\" http-equiv=\"X-UA-Compatible\"/>\n",
       "<title>Hariharan Srinivasan</title>\n",
       "<meta content=\"width=device-width, initial-scale=1\" name=\"viewport\"/>\n",
       "<link href=\"style.css?version=1\" rel=\"stylesheet\" type=\"text/css\"/>\n",
       "<link href=\"https://cdnjs.cloudflare.com/ajax/libs/font-awesome/4.7.0/css/font-awesome.min.css\" rel=\"stylesheet\"/>\n",
       "<link crossorigin=\"anonymous\" href=\"https://stackpath.bootstrapcdn.com/bootstrap/4.4.1/css/bootstrap.min.css\" integrity=\"sha384-Vkoo8x4CGsO3+Hhxv8T/Q5PaXtkKtu6ug5TOeNV6gBiFeWPGFN9MuhOf23Q9Ifjh\" rel=\"stylesheet\"/>\n",
       "<!-- <script src='main.js'></script> -->\n",
       "</head>\n",
       "<body>\n",
       "<div class=\"heading\">\n",
       "<div class=\"pic-head\">\n",
       "<img src=\"kutty.jpeg\"/>\n",
       "</div>\n",
       "<div class=\"content\">\n",
       "<h1>Hariharan Srinivasan !!</h1>\n",
       "<p>\"I am very Passionate and an Enthusiastic Student doing Engineering in the department of Information\n",
       "                Science and Technology in College of Engineering , Guindy and who is having huge thirst in learning\n",
       "                technologies and having huge\n",
       "                interest in Full Stack Web Development.\"</p>\n",
       "<a href=\"https://www.linkedin.com/in/hariharan-srinivasan-32b140195/\"><i class=\"fa fa-linkedin\"></i></a>\n",
       "<!-- <a href=\"https://www.instagram.com/hariharansrinivasan006/\"><i class=\"fa fa-instagram\"></i></a> -->\n",
       "<a href=\"mailto:hari61000@gmail.com\"><i class=\"fa fa-envelope\"></i></a>\n",
       "<a href=\"https://github.com/Hari0077\"><i class=\"fa fa-github\"></i></a>\n",
       "<br/>\n",
       "<br/>\n",
       "<button onclick=\"window.location.href='https://drive.google.com/file/d/1nj3w8pAT1Nqamjzm1e2b_AvyIwDw3W3k/view?usp=sharing'\">Download\n",
       "             CV</button>\n",
       "</div>\n",
       "</div>\n",
       "<div class=\"Skills\">\n",
       "<h2>Skills</h2>\n",
       "<center>\n",
       "<div class=\"progress progress-sm\">\n",
       "<div aria-valuemax=\"50\" aria-valuemin=\"0\" aria-valuenow=\"0\" class=\"progress-bar progress-bar-striped progress-bar-animated\" role=\"progressbar\" style=\"width: 90%;\">HTML 90%</div>\n",
       "</div>\n",
       "<div class=\"progress progress-sm\">\n",
       "<div aria-valuemax=\"50\" aria-valuemin=\"0\" aria-valuenow=\"0\" class=\"progress-bar progress-bar-striped progress-bar-animated\" role=\"progressbar\" style=\"width: 85%;\">CSS 85%</div>\n",
       "</div>\n",
       "<div class=\"progress progress-sm\">\n",
       "<div aria-valuemax=\"50\" aria-valuemin=\"0\" aria-valuenow=\"0\" class=\"progress-bar progress-bar-striped progress-bar-animated\" role=\"progressbar\" style=\"width: 75%;\">Javascript 75%</div>\n",
       "</div>\n",
       "<div class=\"progress progress-sm\">\n",
       "<div aria-valuemax=\"50\" aria-valuemin=\"0\" aria-valuenow=\"0\" class=\"progress-bar progress-bar-striped progress-bar-animated\" role=\"progressbar\" style=\"width: 80%;\">PHP 80%</div>\n",
       "</div>\n",
       "<div class=\"progress progress-sm\">\n",
       "<div aria-valuemax=\"50\" aria-valuemin=\"0\" aria-valuenow=\"0\" class=\"progress-bar progress-bar-striped progress-bar-animated\" role=\"progressbar\" style=\"width: 80%;\">MySQL 80%</div>\n",
       "</div>\n",
       "<div class=\"progress progress-sm\">\n",
       "<div aria-valuemax=\"50\" aria-valuemin=\"0\" aria-valuenow=\"0\" class=\"progress-bar progress-bar-striped progress-bar-animated\" role=\"progressbar\" style=\"width: 45%;\">Adobe XD 45%</div>\n",
       "</div>\n",
       "<div class=\"progress progress-sm\">\n",
       "<div aria-valuemax=\"50\" aria-valuemin=\"0\" aria-valuenow=\"0\" class=\"progress-bar progress-bar-striped progress-bar-animated\" role=\"progressbar\" style=\"width: 95%;\">Core Java 95%</div>\n",
       "</div>\n",
       "<div class=\"progress progress-sm\">\n",
       "<div aria-valuemax=\"50\" aria-valuemin=\"0\" aria-valuenow=\"0\" class=\"progress-bar progress-bar-striped progress-bar-animated\" role=\"progressbar\" style=\"width: 85%;\">C++ 85%</div>\n",
       "</div>\n",
       "<div class=\"progress progress-sm\">\n",
       "<div aria-valuemax=\"50\" aria-valuemin=\"0\" aria-valuenow=\"0\" class=\"progress-bar progress-bar-striped progress-bar-animated\" role=\"progressbar\" style=\"width: 25%;\">React JS 15%</div>\n",
       "</div>\n",
       "<div class=\"progress progress-sm\">\n",
       "<div aria-valuemax=\"50\" aria-valuemin=\"0\" aria-valuenow=\"0\" class=\"progress-bar progress-bar-striped progress-bar-animated\" role=\"progressbar\" style=\"width: 25%;\">Node JS 15%</div>\n",
       "</div>\n",
       "</center>\n",
       "<br/><br/><br/>\n",
       "</div>\n",
       "<div class=\"education-heading\">\n",
       "<h2>Education &amp; Projects</h2><br/><br/>\n",
       "</div>\n",
       "<div class=\"education\">\n",
       "<div class=\"edu-item\">\n",
       "<h2>Education</h2>\n",
       "<i aria-hidden=\"true\" class=\"fa fa-graduation-cap\"><span>Bachelor of Technology</span></i><br/>\n",
       "<i aria-hidden=\"true\" class=\"fa fa-calendar\"><span>2018 - 2022</span></i><br/>\n",
       "<p>Doing my Engineering in College of Engineering , Guindy Chennai in the Department of Information Science and Technology.</p>\n",
       "<p>CGPA 8.03</p>\n",
       "<br/>\n",
       "<i aria-hidden=\"true\" class=\"fa fa-graduation-cap\"><span>HSC</span></i><br/>\n",
       "<i aria-hidden=\"true\" class=\"fa fa-calendar\"><span>2017 - 2018</span></i><br/>\n",
       "<p>Done my HSC in St.Kanakadasa Matric Hr Sec School.</p>\n",
       "<p>Percentage 94.4%</p>\n",
       "</div>\n",
       "<div class=\"edu-item\">\n",
       "<h2>Projects</h2>\n",
       "<i aria-hidden=\"true\" class=\"fa fa-tasks\"><span>Hotel Booking System</span></i><br/>\n",
       "<i aria-hidden=\"true\" class=\"fa fa-calendar\"><span>Sept-2019</span></i><br/>\n",
       "<p>Developed an online Hotel Booking System for tourists where they can book a hotel for them.</p>\n",
       "<br/>\n",
       "<i aria-hidden=\"true\" class=\"fa fa-tasks\"><span>Orange Farewel</span></i><br/>\n",
       "<i aria-hidden=\"true\" class=\"fa fa-calendar\"><span>May-2020</span></i><br/>\n",
       "<p>Developed an online web application for our Seniors where they can upload their memories and they can send anonymous message to their friends.</p>\n",
       "<br/>\n",
       "<button onclick=\"window.location.href='https://drive.google.com/file/d/1nj3w8pAT1Nqamjzm1e2b_AvyIwDw3W3k/view?usp=sharing'\">View more!!</button>\n",
       "</div>\n",
       "</div>\n",
       "<div class=\"contact\">\n",
       "<h3>Contact</h3>\n",
       "<center>\n",
       "<a href=\"https://www.linkedin.com/in/hariharan-srinivasan-32b140195/\"><i class=\"fa fa-linkedin\"></i></a>\n",
       "<!-- <a href=\"https://www.instagram.com/hariharansrinivasan006/\"><i class=\"fa fa-instagram\"></i></a> -->\n",
       "<a href=\"mailto:hari61000@gmail.com\"><i class=\"fa fa-envelope\"></i></a>\n",
       "<a href=\"https://github.com/Hari0077\"><i class=\"fa fa-github\"></i></a>\n",
       "<a href=\"https://wa.link/fq9mfl\"><i class=\"fa fa-whatsapp\"></i></a>\n",
       "<p>Designed by Hariharan Srinivasan 😍</p>\n",
       "</center>\n",
       "</div>\n",
       "</body>\n",
       "</html>"
      ]
     },
     "execution_count": 12,
     "metadata": {},
     "output_type": "execute_result"
    }
   ],
   "source": [
    "soup"
   ]
  },
  {
   "cell_type": "code",
   "execution_count": 17,
   "id": "nearby-meeting",
   "metadata": {},
   "outputs": [
    {
     "name": "stdout",
     "output_type": "stream",
     "text": [
      "\"I am very Passionate and an Enthusiastic Student doing Engineering in the department of Information\r\n",
      "                Science and Technology in College of Engineering , Guindy and who is having huge thirst in learning\r\n",
      "                technologies and having huge\r\n",
      "                interest in Full Stack Web Development.\"\n",
      "\n",
      "Doing my Engineering in College of Engineering , Guindy Chennai in the Department of Information Science and Technology.\n",
      "\n",
      "CGPA 8.03\n",
      "\n",
      "Done my HSC in St.Kanakadasa Matric Hr Sec School.\n",
      "\n",
      "Percentage 94.4%\n",
      "\n",
      "Developed an online Hotel Booking System for tourists where they can book a hotel for them.\n",
      "\n",
      "Developed an online web application for our Seniors where they can upload their memories and they can send anonymous message to their friends.\n",
      "\n",
      "Designed by Hariharan Srinivasan 😍\n",
      "\n"
     ]
    }
   ],
   "source": [
    "for i in links:\n",
    "    print(i.text)\n",
    "    print()"
   ]
  },
  {
   "cell_type": "code",
   "execution_count": null,
   "id": "veterinary-gabriel",
   "metadata": {},
   "outputs": [],
   "source": []
  }
 ],
 "metadata": {
  "kernelspec": {
   "display_name": "Python 3",
   "language": "python",
   "name": "python3"
  },
  "language_info": {
   "codemirror_mode": {
    "name": "ipython",
    "version": 3
   },
   "file_extension": ".py",
   "mimetype": "text/x-python",
   "name": "python",
   "nbconvert_exporter": "python",
   "pygments_lexer": "ipython3",
   "version": "3.6.13"
  }
 },
 "nbformat": 4,
 "nbformat_minor": 5
}
